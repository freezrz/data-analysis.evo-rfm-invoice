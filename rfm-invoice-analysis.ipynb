{
 "cells": [
  {
   "cell_type": "code",
   "execution_count": 1,
   "metadata": {},
   "outputs": [
    {
     "name": "stdout",
     "output_type": "stream",
     "text": [
      "Calculation started (calculation_id=7ec3e864-1ce4-9a89-7a2f-a8dc9a1f7578) in (session=82c3e85f-07fe-ef66-49a7-42c131c664cf). Checking calculation status...\n"
     ]
    },
    {
     "data": {
      "application/vnd.jupyter.widget-view+json": {
       "model_id": "1204c78a1395436985f932086b1ed80a",
       "version_major": 2,
       "version_minor": 0
      },
      "text/plain": [
       "Progress:   0%|          |elapsed time = 00:00s"
      ]
     },
     "metadata": {},
     "output_type": "display_data"
    },
    {
     "name": "stdout",
     "output_type": "stream",
     "text": [
      "Calculation 7ec3e864-1ce4-9a89-7a2f-a8dc9a1f7578 failed\n",
      "\n",
      "\n",
      "  File \"<stdin>\", line 7, in <module>\n",
      "AttributeError: 'function' object has no attribute 'appName'\n",
      "\n"
     ]
    }
   ],
   "source": [
    "import numpy as np\n",
    "import pandas as pd\n",
    "import matplotlib.pyplot as plt\n",
    "%matplot plt\n",
    "\n",
    "import pyspark\n",
    "from pyspark.sql import SparkSession\n",
    "\n",
    "#spark = SparkSession.builder.appName(\"PySpark\").getOrCreate()\n",
    "#spark\n",
    "spark = SparkSession.builder \\\n",
    "    .appName(\"PySpark\") \\\n",
    "    .getOrCreate()\n"
   ]
  },
  {
   "cell_type": "code",
   "execution_count": 2,
   "metadata": {},
   "outputs": [
    {
     "name": "stdout",
     "output_type": "stream",
     "text": [
      "Calculation started (calculation_id=68c3e864-235b-4a6f-f4d2-e6a384f72f3a) in (session=82c3e85f-07fe-ef66-49a7-42c131c664cf). Checking calculation status...\n"
     ]
    },
    {
     "data": {
      "application/vnd.jupyter.widget-view+json": {
       "model_id": "8aca6ee0eb2040378228328424c7beeb",
       "version_major": 2,
       "version_minor": 0
      },
      "text/plain": [
       "Progress:   0%|          |elapsed time = 00:00s"
      ]
     },
     "metadata": {},
     "output_type": "display_data"
    },
    {
     "name": "stdout",
     "output_type": "stream",
     "text": [
      "Calculation completed.\n"
     ]
    }
   ],
   "source": [
    "from pyspark.sql import functions as F\n",
    "from pyspark.sql.types import *\n",
    "from pyspark.sql.window import Window"
   ]
  },
  {
   "cell_type": "code",
   "execution_count": 3,
   "metadata": {},
   "outputs": [
    {
     "name": "stdout",
     "output_type": "stream",
     "text": [
      "Calculation started (calculation_id=c8c3e864-28e6-a710-94f0-4dee97b42502) in (session=82c3e85f-07fe-ef66-49a7-42c131c664cf). Checking calculation status...\n"
     ]
    },
    {
     "data": {
      "application/vnd.jupyter.widget-view+json": {
       "model_id": "c6164ce812bb4f3792415532aee162de",
       "version_major": 2,
       "version_minor": 0
      },
      "text/plain": [
       "Progress:   0%|          |elapsed time = 00:00s"
      ]
     },
     "metadata": {},
     "output_type": "display_data"
    },
    {
     "name": "stdout",
     "output_type": "stream",
     "text": [
      "Calculation completed.\n"
     ]
    }
   ],
   "source": [
    "def printdf(df, l=5):\n",
    "    return df.limit(l).toPandas()\n",
    "\n",
    "def nullcount(df):\n",
    "    return {col: df.filter(df[col].isNull()).count() for col in df.columns}\n",
    "\n",
    "def shape(df):\n",
    "    # df.toPandas().shape\n",
    "    print((df.count(), len(df.columns)))"
   ]
  },
  {
   "cell_type": "code",
   "execution_count": 4,
   "metadata": {
    "scrolled": true
   },
   "outputs": [
    {
     "name": "stdout",
     "output_type": "stream",
     "text": [
      "Calculation started (calculation_id=a0c3e864-2a42-2482-256a-3b8b8052d482) in (session=82c3e85f-07fe-ef66-49a7-42c131c664cf). Checking calculation status...\n"
     ]
    },
    {
     "data": {
      "application/vnd.jupyter.widget-view+json": {
       "model_id": "c7e76fc8e3b6496f98cf5e823f18cb8a",
       "version_major": 2,
       "version_minor": 0
      },
      "text/plain": [
       "Progress:   0%|          |elapsed time = 00:00s"
      ]
     },
     "metadata": {},
     "output_type": "display_data"
    },
    {
     "name": "stdout",
     "output_type": "stream",
     "text": [
      "Calculation completed.\n",
      "root\n",
      " |-- creation_date: string (nullable = true)\n",
      " |-- created_date_time: long (nullable = true)\n",
      " |-- sg_time: string (nullable = true)\n",
      " |-- user_id: integer (nullable = true)\n",
      " |-- invoice_number: string (nullable = true)\n",
      " |-- total_amount: double (nullable = true)\n",
      "\n"
     ]
    }
   ],
   "source": [
    "data = spark.read.csv(f\"s3://evo-prod-cdc-copy-query/pipeline-invoice/0a803ee2-20fc-49b5-aca9-ce270a18644f.csv\", \n",
    "                      inferSchema=True, \n",
    "                      header=True)\n",
    "data.printSchema()"
   ]
  },
  {
   "cell_type": "markdown",
   "metadata": {},
   "source": [
    "# EDA "
   ]
  },
  {
   "cell_type": "code",
   "execution_count": 5,
   "metadata": {
    "scrolled": true
   },
   "outputs": [
    {
     "name": "stdout",
     "output_type": "stream",
     "text": [
      "Calculation started (calculation_id=58c3e864-405b-b3e3-b982-9e647198bca7) in (session=82c3e85f-07fe-ef66-49a7-42c131c664cf). Checking calculation status...\n"
     ]
    },
    {
     "data": {
      "application/vnd.jupyter.widget-view+json": {
       "model_id": "89db8a7114f0463e8a35d1b43f02bd10",
       "version_major": 2,
       "version_minor": 0
      },
      "text/plain": [
       "Progress:   0%|          |elapsed time = 00:00s"
      ]
     },
     "metadata": {},
     "output_type": "display_data"
    },
    {
     "name": "stdout",
     "output_type": "stream",
     "text": [
      "Calculation completed.\n"
     ]
    }
   ],
   "source": [
    "from pyspark.sql import functions as F\n",
    "from pyspark.sql.types import *\n",
    "from pyspark.sql.window import Window"
   ]
  },
  {
   "cell_type": "code",
   "execution_count": 6,
   "metadata": {},
   "outputs": [
    {
     "name": "stdout",
     "output_type": "stream",
     "text": [
      "Calculation started (calculation_id=74c3e864-45ab-aa7a-9c16-db958b50741f) in (session=82c3e85f-07fe-ef66-49a7-42c131c664cf). Checking calculation status...\n"
     ]
    },
    {
     "data": {
      "application/vnd.jupyter.widget-view+json": {
       "model_id": "cdb02006c73147eeab861467db09e79b",
       "version_major": 2,
       "version_minor": 0
      },
      "text/plain": [
       "Progress:   0%|          |elapsed time = 00:00s"
      ]
     },
     "metadata": {},
     "output_type": "display_data"
    },
    {
     "name": "stdout",
     "output_type": "stream",
     "text": [
      "Calculation completed.\n"
     ]
    }
   ],
   "source": [
    "def printdf(df, l=5):\n",
    "    return df.limit(l).toPandas()\n",
    "\n",
    "def nullcount(df):\n",
    "    return {col: df.filter(df[col].isNull()).count() for col in df.columns}\n",
    "\n",
    "def shape(df):\n",
    "    # df.toPandas().shape\n",
    "    print((df.count(), len(df.columns)))"
   ]
  },
  {
   "cell_type": "code",
   "execution_count": 7,
   "metadata": {
    "scrolled": true
   },
   "outputs": [
    {
     "name": "stdout",
     "output_type": "stream",
     "text": [
      "Calculation started (calculation_id=c6c3e864-46f2-fc43-8fdf-b741cc914389) in (session=82c3e85f-07fe-ef66-49a7-42c131c664cf). Checking calculation status...\n"
     ]
    },
    {
     "data": {
      "application/vnd.jupyter.widget-view+json": {
       "model_id": "99c2c850f25a4580b2c5a7e67f1ffa93",
       "version_major": 2,
       "version_minor": 0
      },
      "text/plain": [
       "Progress:   0%|          |elapsed time = 00:00s"
      ]
     },
     "metadata": {},
     "output_type": "display_data"
    },
    {
     "name": "stdout",
     "output_type": "stream",
     "text": [
      "Calculation completed.\n",
      "Dataframe dimensions: (431, 6)\n",
      "         creation_date  created_date_time  ... invoice_number  total_amount\n",
      "0  2023-03-01 12:29:46   1677644986326689  ...        AMI0104        2000.0\n",
      "1  2023-02-28 01:11:06   1677561066343199  ...         NUR109        1500.0\n",
      "2  2023-02-28 01:09:32   1677560972531807  ...          CM103         750.0\n",
      "3  2023-02-27 08:13:18   1677499998057097  ...        MOH0131         250.0\n",
      "4  2023-02-27 09:47:32   1677462452627054  ...           JW05        3000.0\n",
      "\n",
      "[5 rows x 6 columns]\n",
      "\n"
     ]
    }
   ],
   "source": [
    "print('Dataframe dimensions:', (data.count(), len(data.columns)))\n",
    "printdf(data)"
   ]
  },
  {
   "cell_type": "code",
   "execution_count": 8,
   "metadata": {
    "scrolled": true
   },
   "outputs": [
    {
     "name": "stdout",
     "output_type": "stream",
     "text": [
      "Calculation started (calculation_id=cac3e864-5874-8a79-7a3f-f18f6b9d7a5a) in (session=82c3e85f-07fe-ef66-49a7-42c131c664cf). Checking calculation status...\n"
     ]
    },
    {
     "data": {
      "application/vnd.jupyter.widget-view+json": {
       "model_id": "85199613740b483795f4c9378e2ecdda",
       "version_major": 2,
       "version_minor": 0
      },
      "text/plain": [
       "Progress:   0%|          |elapsed time = 00:00s"
      ]
     },
     "metadata": {},
     "output_type": "display_data"
    },
    {
     "name": "stdout",
     "output_type": "stream",
     "text": [
      "Calculation completed.\n",
      "       created_date_time     user_id  total_amount\n",
      "count       4.310000e+02  431.000000    431.000000\n",
      "mean        1.632474e+15  307.793503   1085.243794\n",
      "std         1.447563e+14  194.630948   3873.099011\n",
      "min         9.783072e+14    3.000000      0.000000\n",
      "25%         1.657736e+15  144.000000    200.000000\n",
      "50%         1.664550e+15  324.000000    450.000000\n",
      "75%         1.672065e+15  517.000000    951.000000\n",
      "max         1.677645e+15  597.000000  75000.000000\n",
      "\n"
     ]
    }
   ],
   "source": [
    "data.toPandas().describe()"
   ]
  },
  {
   "cell_type": "code",
   "execution_count": 9,
   "metadata": {
    "scrolled": true
   },
   "outputs": [
    {
     "name": "stdout",
     "output_type": "stream",
     "text": [
      "Calculation started (calculation_id=fcc3e864-5dec-6614-5697-3a4df89c8431) in (session=82c3e85f-07fe-ef66-49a7-42c131c664cf). Checking calculation status...\n"
     ]
    },
    {
     "data": {
      "application/vnd.jupyter.widget-view+json": {
       "model_id": "59dcab4c40124c909b9bc7f329f8ddeb",
       "version_major": 2,
       "version_minor": 0
      },
      "text/plain": [
       "Progress:   0%|          |elapsed time = 00:00s"
      ]
     },
     "metadata": {},
     "output_type": "display_data"
    },
    {
     "name": "stdout",
     "output_type": "stream",
     "text": [
      "Calculation completed.\n",
      "         creation_date  created_date_time  ... invoice_number  total_amount\n",
      "0  2023-03-01 12:29:46   1677644986326689  ...        AMI0104        2000.0\n",
      "1  2023-02-28 01:11:06   1677561066343199  ...         NUR109        1500.0\n",
      "2  2023-02-28 01:09:32   1677560972531807  ...          CM103         750.0\n",
      "3  2023-02-27 08:13:18   1677499998057097  ...        MOH0131         250.0\n",
      "4  2023-02-27 09:47:32   1677462452627054  ...           JW05        3000.0\n",
      "\n",
      "[5 rows x 6 columns]\n",
      "\n"
     ]
    }
   ],
   "source": [
    "rtl_data = data.filter(F.col(\"user_id\").isNotNull())\n",
    "\n",
    "rtl_data.toPandas().shape\n",
    "\n",
    "printdf(rtl_data)"
   ]
  },
  {
   "cell_type": "markdown",
   "metadata": {},
   "source": [
    "# RFM Modeling"
   ]
  },
  {
   "cell_type": "code",
   "execution_count": 10,
   "metadata": {
    "scrolled": true
   },
   "outputs": [
    {
     "name": "stdout",
     "output_type": "stream",
     "text": [
      "Calculation started (calculation_id=90c3e864-6f6d-2f1c-5430-9e1f2c89ccdd) in (session=82c3e85f-07fe-ef66-49a7-42c131c664cf). Checking calculation status...\n"
     ]
    },
    {
     "data": {
      "application/vnd.jupyter.widget-view+json": {
       "model_id": "03896b23899f4038be578a9feb4cdfe0",
       "version_major": 2,
       "version_minor": 0
      },
      "text/plain": [
       "Progress:   0%|          |elapsed time = 00:00s"
      ]
     },
     "metadata": {},
     "output_type": "display_data"
    },
    {
     "name": "stdout",
     "output_type": "stream",
     "text": [
      "Calculation completed.\n",
      "2001-01-01 08:00:00\n",
      "2023-03-01 12:29:46\n",
      "\n"
     ]
    }
   ],
   "source": [
    "df = rtl_data.toPandas()\n",
    "\n",
    "print(df.creation_date.min())\n",
    "print(df.creation_date.max())"
   ]
  },
  {
   "cell_type": "code",
   "execution_count": 11,
   "metadata": {
    "scrolled": true
   },
   "outputs": [
    {
     "name": "stdout",
     "output_type": "stream",
     "text": [
      "Calculation started (calculation_id=86c3e864-74c2-e8f5-a6d6-53c48ff308e7) in (session=82c3e85f-07fe-ef66-49a7-42c131c664cf). Checking calculation status...\n"
     ]
    },
    {
     "data": {
      "application/vnd.jupyter.widget-view+json": {
       "model_id": "1a288f3a10984b53ae1a23f9a97e85e9",
       "version_major": 2,
       "version_minor": 0
      },
      "text/plain": [
       "Progress:   0%|          |elapsed time = 00:00s"
      ]
     },
     "metadata": {},
     "output_type": "display_data"
    },
    {
     "name": "stdout",
     "output_type": "stream",
     "text": [
      "Calculation completed.\n"
     ]
    }
   ],
   "source": [
    "#max_date_row = rtl_data.select(F.max('creation_date')).collect()[0]\n",
    "#max_date_str = max_date_row['max(creation_date)']\n",
    "#print(max_date_str)\n",
    "import datetime\n",
    "\n",
    "now = datetime.datetime.now()"
   ]
  },
  {
   "cell_type": "code",
   "execution_count": 12,
   "metadata": {},
   "outputs": [
    {
     "name": "stdout",
     "output_type": "stream",
     "text": [
      "Calculation started (calculation_id=f0c3e864-7614-fe28-ecb5-16311a256996) in (session=82c3e85f-07fe-ef66-49a7-42c131c664cf). Checking calculation status...\n"
     ]
    },
    {
     "data": {
      "application/vnd.jupyter.widget-view+json": {
       "model_id": "351c6721eec14da8b3eb2795a4c2ae1a",
       "version_major": 2,
       "version_minor": 0
      },
      "text/plain": [
       "Progress:   0%|          |elapsed time = 00:00s"
      ]
     },
     "metadata": {},
     "output_type": "display_data"
    },
    {
     "name": "stdout",
     "output_type": "stream",
     "text": [
      "Calculation completed.\n",
      "   user_id  Recency  Frequency  Monetary\n",
      "0        3     8154          3     361.0\n",
      "1        5      181         17   11695.0\n",
      "2       12       72         14    3524.0\n",
      "3       15     8154          4   20000.0\n",
      "4       24      170          8   46300.0\n",
      "\n"
     ]
    }
   ],
   "source": [
    "# Recency   = Overall latest invoice date - individual customer's last invoice date\n",
    "# Frequency = count of invoice no. of transaction(s)\n",
    "# Monetary = Sum of Total amount for each customer\n",
    "\n",
    "# Set max_date_str as the overall last invoice date. This is to calculate recency in days.\n",
    "latest_date = F.to_date(F.lit(now), 'yyyy-MM-dd HH:mm:ss')\n",
    "\n",
    "# Create RFM Modelling scores for each customer\n",
    "\n",
    "### Approach One\n",
    "rfm_scores = (rtl_data.groupBy(\"user_id\")\n",
    "              .agg((F.datediff(latest_date, F.max(F.col(\"creation_date\")))).alias(\"Recency\"),\n",
    "                   F.count(\"*\").alias(\"Frequency\"),\n",
    "                   F.sum(F.col(\"total_amount\")).alias(\"Monetary\")).sort(\"user_id\"))\n",
    "\n",
    "### Approach Two\n",
    "# recency = (\n",
    "#     rtl_data.groupBy(\"user_id\")\n",
    "#             .agg((F.datediff(latest_date, F.max(F.col(\"creation_date\")))).alias(\"Recency\"))\n",
    "# )\n",
    "\n",
    "# frequency = (\n",
    "#     rtl_data.groupBy(\"user_id\", \"invoice_number\").count()\n",
    "#             .groupBy(\"user_id\")\n",
    "#             .agg(F.count(\"*\").alias(\"Frequency\"))\n",
    "# )\n",
    "\n",
    "# monetary = (\n",
    "#     rtl_data.groupBy(\"user_id\")\n",
    "#             .agg(F.sum(F.col(\"total_amount\")).alias(\"Monetary\"))\n",
    "# )\n",
    "\n",
    "# rfm_scores = (\n",
    "#     recency.join(frequency, 'user_id', how = 'inner')\n",
    "#            .join(monetary,'user_id', how = 'inner')\n",
    "# )\n",
    "\n",
    "printdf(rfm_scores)"
   ]
  },
  {
   "cell_type": "code",
   "execution_count": 13,
   "metadata": {
    "scrolled": false
   },
   "outputs": [
    {
     "name": "stdout",
     "output_type": "stream",
     "text": [
      "Calculation started (calculation_id=2ec3e864-879c-3dee-2d02-44584806d615) in (session=82c3e85f-07fe-ef66-49a7-42c131c664cf). Checking calculation status...\n"
     ]
    },
    {
     "data": {
      "application/vnd.jupyter.widget-view+json": {
       "model_id": "92b18dafb6564cb699375c3b5e428afc",
       "version_major": 2,
       "version_minor": 0
      },
      "text/plain": [
       "Progress:   0%|          |elapsed time = 00:00s"
      ]
     },
     "metadata": {},
     "output_type": "display_data"
    },
    {
     "name": "stdout",
     "output_type": "stream",
     "text": [
      "Calculation completed.\n"
     ]
    }
   ],
   "source": [
    "rfm_scores.toPandas().describe()\n",
    "rfm_scores = rfm_scores.filter(rfm_scores.Recency < 500)"
   ]
  },
  {
   "cell_type": "markdown",
   "metadata": {},
   "source": [
    "### Explore the RFM Scores using SNS"
   ]
  },
  {
   "cell_type": "code",
   "execution_count": 14,
   "metadata": {
    "scrolled": true
   },
   "outputs": [
    {
     "name": "stdout",
     "output_type": "stream",
     "text": [
      "Calculation started (calculation_id=00c3e864-8d1e-4090-7f7a-135399d60cc6) in (session=82c3e85f-07fe-ef66-49a7-42c131c664cf). Checking calculation status...\n"
     ]
    },
    {
     "data": {
      "application/vnd.jupyter.widget-view+json": {
       "model_id": "6d3aaf0f43a245bd9b3a56046463d192",
       "version_major": 2,
       "version_minor": 0
      },
      "text/plain": [
       "Progress:   0%|          |elapsed time = 00:00s"
      ]
     },
     "metadata": {},
     "output_type": "display_data"
    },
    {
     "name": "stdout",
     "output_type": "stream",
     "text": [
      "Calculation completed.\n"
     ]
    }
   ],
   "source": [
    "rfm_scores_df = rfm_scores.toPandas()"
   ]
  },
  {
   "cell_type": "code",
   "execution_count": 15,
   "metadata": {
    "scrolled": false
   },
   "outputs": [
    {
     "name": "stdout",
     "output_type": "stream",
     "text": [
      "Calculation started (calculation_id=7ac3e864-a2d7-a382-0483-be1f2fbe5e11) in (session=82c3e85f-07fe-ef66-49a7-42c131c664cf). Checking calculation status...\n"
     ]
    },
    {
     "data": {
      "application/vnd.jupyter.widget-view+json": {
       "model_id": "279be85f313147fe9d86f3376f36249b",
       "version_major": 2,
       "version_minor": 0
      },
      "text/plain": [
       "Progress:   0%|          |elapsed time = 00:00s"
      ]
     },
     "metadata": {},
     "output_type": "display_data"
    },
    {
     "name": "stdout",
     "output_type": "stream",
     "text": [
      "Calculation completed.\n",
      "<AxesSubplot:xlabel='Monetary', ylabel='Count'>\n",
      "\n"
     ]
    }
   ],
   "source": [
    "import seaborn as sns\n",
    "\n",
    "fig, ax = plt.subplots(1, 3, figsize=(16, 8))\n",
    "\n",
    "# Recency distribution plot\n",
    "sns.histplot(rfm_scores_df.query('Recency < 500')['Recency'], kde=True, ax=ax[0])\n",
    "\n",
    "# Frequency distribution plot\n",
    "sns.histplot(rfm_scores_df.query('Frequency < 35')['Frequency'], kde=True, ax=ax[1])\n",
    "\n",
    "# Monetary distribution plot\n",
    "sns.histplot(rfm_scores_df.query('Monetary < 100000')['Monetary'], kde=True, ax=ax[2])"
   ]
  },
  {
   "cell_type": "code",
   "execution_count": 16,
   "metadata": {
    "scrolled": true
   },
   "outputs": [
    {
     "name": "stdout",
     "output_type": "stream",
     "text": [
      "Calculation started (calculation_id=10c3e864-a88f-7d39-02c3-252156501185) in (session=82c3e85f-07fe-ef66-49a7-42c131c664cf). Checking calculation status...\n"
     ]
    },
    {
     "data": {
      "application/vnd.jupyter.widget-view+json": {
       "model_id": "47267a863d234c4bb6524e6c3961b3ff",
       "version_major": 2,
       "version_minor": 0
      },
      "text/plain": [
       "Progress:   0%|          |elapsed time = 00:00s"
      ]
     },
     "metadata": {},
     "output_type": "display_data"
    },
    {
     "name": "stdout",
     "output_type": "stream",
     "text": [
      "Calculation completed.\n"
     ]
    }
   ],
   "source": [
    "import boto3\n",
    "s3client=boto3.client('s3')\n",
    "fig.savefig('rfm_histogram.png')\n",
    "s3client.upload_file('rfm_histogram.png', 'athenapyspark-rfm-analysis-result', 'analysis-results/rfm_histogram.png')"
   ]
  },
  {
   "cell_type": "markdown",
   "metadata": {},
   "source": [
    "### Save RFM Numbers"
   ]
  },
  {
   "cell_type": "code",
   "execution_count": 17,
   "metadata": {
    "scrolled": true
   },
   "outputs": [
    {
     "name": "stdout",
     "output_type": "stream",
     "text": [
      "Calculation started (calculation_id=f6c3e864-ade8-b275-1433-b283ca08b744) in (session=82c3e85f-07fe-ef66-49a7-42c131c664cf). Checking calculation status...\n"
     ]
    },
    {
     "data": {
      "application/vnd.jupyter.widget-view+json": {
       "model_id": "5146832c3d7b4b8aa4bc09793b52b29a",
       "version_major": 2,
       "version_minor": 0
      },
      "text/plain": [
       "Progress:   0%|          |elapsed time = 00:00s"
      ]
     },
     "metadata": {},
     "output_type": "display_data"
    },
    {
     "name": "stdout",
     "output_type": "stream",
     "text": [
      "Calculation completed.\n",
      "0\n",
      "s3.Object(bucket_name='athenapyspark-rfm-analysis-result', key='analysis-results/evo_rfm_numbers.csv')\n",
      "\n"
     ]
    }
   ],
   "source": [
    "s3 = boto3.resource('s3')\n",
    "bucket = s3.Bucket('athenapyspark-rfm-analysis-result')\n",
    "import tempfile\n",
    "with tempfile.TemporaryFile(mode='w+t') as f:\n",
    "    # write the DataFrame to the temporary file\n",
    "    rfm_scores_df.to_csv(f, index=False)\n",
    "    # reset the file pointer to the beginning of the file\n",
    "    f.seek(0)\n",
    "    # upload the file to S3\n",
    "    bucket.put_object(Key='analysis-results/evo_rfm_numbers.csv', Body=f.read().encode())"
   ]
  },
  {
   "cell_type": "markdown",
   "metadata": {},
   "source": [
    "### Calculate RFM Scores"
   ]
  },
  {
   "cell_type": "code",
   "execution_count": 18,
   "metadata": {},
   "outputs": [
    {
     "name": "stdout",
     "output_type": "stream",
     "text": [
      "Calculation started (calculation_id=56c3e864-b34c-c47a-7550-f4438b976925) in (session=82c3e85f-07fe-ef66-49a7-42c131c664cf). Checking calculation status...\n"
     ]
    },
    {
     "data": {
      "application/vnd.jupyter.widget-view+json": {
       "model_id": "5d9356b49d2240f9abd6cb4f0ffc7c35",
       "version_major": 2,
       "version_minor": 0
      },
      "text/plain": [
       "Progress:   0%|          |elapsed time = 00:00s"
      ]
     },
     "metadata": {},
     "output_type": "display_data"
    },
    {
     "name": "stdout",
     "output_type": "stream",
     "text": [
      "Calculation completed.\n",
      "[[132.0, 257.0], [2.0, 4.0], [700.0, 3600.0]]\n",
      "\n"
     ]
    }
   ],
   "source": [
    "# We are going to divide our customer base into 3 segments: \n",
    "#    1st segment: top 33%\n",
    "#    2nd segment: 33% - 66%\n",
    "#    3rd segment: bottom 33%\n",
    "\n",
    "# Understand and calculate different quantiles\n",
    "\n",
    "# rfm_scores.toPandas()[\"Recency\"].describe()\n",
    "\n",
    "segments = [0.33, 0.66]\n",
    "\n",
    "quantiles = rfm_scores.approxQuantile(\n",
    "    [\"Recency\", \"Frequency\", \"Monetary\"], \n",
    "    segments,\n",
    "    0)\n",
    "quantiles"
   ]
  },
  {
   "cell_type": "code",
   "execution_count": 19,
   "metadata": {},
   "outputs": [
    {
     "name": "stdout",
     "output_type": "stream",
     "text": [
      "Calculation started (calculation_id=6ec3e864-cce7-c2de-1ed4-db47bce77df9) in (session=82c3e85f-07fe-ef66-49a7-42c131c664cf). Checking calculation status...\n"
     ]
    },
    {
     "data": {
      "application/vnd.jupyter.widget-view+json": {
       "model_id": "bad53ec2ae2448ceb1cbd33ddb267575",
       "version_major": 2,
       "version_minor": 0
      },
      "text/plain": [
       "Progress:   0%|          |elapsed time = 00:00s"
      ]
     },
     "metadata": {},
     "output_type": "display_data"
    },
    {
     "name": "stdout",
     "output_type": "stream",
     "text": [
      "Calculation completed.\n"
     ]
    }
   ],
   "source": [
    "# Calculate R,F,M scores considering 3 quantiles\n",
    "\n",
    "rfm_scores = (rfm_scores\n",
    "    .withColumn(\"R_Score\",\n",
    "                F.when(F.col(\"Recency\") < quantiles[0][0], F.lit(1))\n",
    "                 .when(F.col(\"Recency\") < quantiles[0][1], F.lit(2))\n",
    "                 .otherwise(F.lit(3)))\n",
    "    .withColumn(\"F_Score\",\n",
    "                F.when(F.col(\"Frequency\") < quantiles[1][0], F.lit(3))\n",
    "                 .when(F.col(\"Frequency\") < quantiles[1][1], F.lit(2))\n",
    "                 .otherwise(F.lit(1)))\n",
    "    .withColumn(\"M_Score\",\n",
    "                F.when(F.col(\"Monetary\") < quantiles[2][0], F.lit(3))\n",
    "                 .when(F.col(\"Monetary\") < quantiles[2][1], F.lit(2))\n",
    "                 .otherwise(F.lit(1))))\n",
    "\n",
    "# printdf(rfm_scores.filter(F.col(\"CustomerID\").isin([12346,12747,12748,12749,12820])))\n",
    "# printdf(rfm_scores)\n",
    "\n",
    "# rfm_scores.describe().show()"
   ]
  },
  {
   "cell_type": "code",
   "execution_count": 20,
   "metadata": {},
   "outputs": [
    {
     "name": "stdout",
     "output_type": "stream",
     "text": [
      "Calculation started (calculation_id=3ec3e864-d298-f607-296d-a0688efdaf64) in (session=82c3e85f-07fe-ef66-49a7-42c131c664cf). Checking calculation status...\n"
     ]
    },
    {
     "data": {
      "application/vnd.jupyter.widget-view+json": {
       "model_id": "71deca1899b2468995816a45ddde750c",
       "version_major": 2,
       "version_minor": 0
      },
      "text/plain": [
       "Progress:   0%|          |elapsed time = 00:00s"
      ]
     },
     "metadata": {},
     "output_type": "display_data"
    },
    {
     "name": "stdout",
     "output_type": "stream",
     "text": [
      "Calculation completed.\n",
      "   user_id  Recency  Frequency  ...  M_Score  RFM_Score  RFM_ScoreGroup\n",
      "0        5      181         17  ...        1          4             211\n",
      "1       12       72         14  ...        2          4             112\n",
      "2       24      170          8  ...        1          4             211\n",
      "3       31      192          6  ...        2          5             212\n",
      "4       34      234         16  ...        2          5             212\n",
      "\n",
      "[5 rows x 9 columns]\n",
      "\n"
     ]
    }
   ],
   "source": [
    "# Aggregate RFM scores\n",
    "\n",
    "rfm_agg_scores = (\n",
    "    rfm_scores\n",
    "    .withColumn(\"RFM_Score\", F.col(\"R_Score\") + F.col(\"F_Score\") + F.col(\"M_Score\"))\n",
    "    .withColumn(\"RFM_ScoreGroup\", F.concat(F.col(\"R_Score\").cast(StringType()), F.col(\"F_Score\").cast(StringType()), F.col(\"M_Score\").cast(StringType())))\n",
    ")\n",
    "\n",
    "printdf(rfm_agg_scores)"
   ]
  },
  {
   "cell_type": "code",
   "execution_count": 21,
   "metadata": {},
   "outputs": [
    {
     "name": "stdout",
     "output_type": "stream",
     "text": [
      "Calculation started (calculation_id=f4c3e864-e431-f5ea-2196-06f89bbddabc) in (session=82c3e85f-07fe-ef66-49a7-42c131c664cf). Checking calculation status...\n"
     ]
    },
    {
     "data": {
      "application/vnd.jupyter.widget-view+json": {
       "model_id": "a02e952b6d8c47c5a72eb9f56a5bbfa0",
       "version_major": 2,
       "version_minor": 0
      },
      "text/plain": [
       "Progress:   0%|          |elapsed time = 00:00s"
      ]
     },
     "metadata": {},
     "output_type": "display_data"
    },
    {
     "name": "stdout",
     "output_type": "stream",
     "text": [
      "Calculation completed.\n",
      "(82, 9)\n",
      "\n"
     ]
    }
   ],
   "source": [
    "df_rfm_agg_scores = rfm_agg_scores.toPandas()\n",
    "df_rfm_agg_scores.shape"
   ]
  },
  {
   "cell_type": "code",
   "execution_count": 22,
   "metadata": {
    "scrolled": true
   },
   "outputs": [
    {
     "name": "stdout",
     "output_type": "stream",
     "text": [
      "Calculation started (calculation_id=32c3e864-e936-d8b9-e9be-73db915f1244) in (session=82c3e85f-07fe-ef66-49a7-42c131c664cf). Checking calculation status...\n"
     ]
    },
    {
     "data": {
      "application/vnd.jupyter.widget-view+json": {
       "model_id": "5140725d975e46a8894d86e5bd041a07",
       "version_major": 2,
       "version_minor": 0
      },
      "text/plain": [
       "Progress:   0%|          |elapsed time = 00:00s"
      ]
     },
     "metadata": {},
     "output_type": "display_data"
    },
    {
     "name": "stdout",
     "output_type": "stream",
     "text": [
      "Calculation completed.\n"
     ]
    }
   ],
   "source": [
    "df_rfm_agg_scores = df_rfm_agg_scores.sort_values([\"RFM_Score\"])\n",
    "\n",
    "fig, ax = plt.subplots(1, 2, figsize=(16, 8))\n",
    "plt.xticks(rotation=90)\n",
    "# sns.histplot(df_rfm_agg_scores[\"RFMScore\"], kde=True, bins=10, ax=ax[0])\n",
    "sns.countplot(x=\"RFM_Score\", data=df_rfm_agg_scores, \n",
    "              color='steelblue', ax=ax[0])\n",
    "sns.countplot(x=\"RFM_ScoreGroup\", data=df_rfm_agg_scores, \n",
    "              color='steelblue', ax=ax[1])\n",
    "# sns.histplot(df_rfm_agg_scores[\"RFMScoreGroup\"], color='steelblue', ax=ax[2])\n",
    "fig.savefig('rfmscore_countplot.png')\n",
    "s3client.upload_file('rfmscore_countplot.png', 'athenapyspark-rfm-analysis-result', 'analysis-results/rfmscore_countplot.png')"
   ]
  },
  {
   "cell_type": "markdown",
   "metadata": {},
   "source": [
    "# Segmentation 1"
   ]
  },
  {
   "cell_type": "code",
   "execution_count": 23,
   "metadata": {
    "scrolled": true
   },
   "outputs": [
    {
     "name": "stdout",
     "output_type": "stream",
     "text": [
      "Calculation started (calculation_id=24c3e864-ee87-0fb3-9fb0-953386b37749) in (session=82c3e85f-07fe-ef66-49a7-42c131c664cf). Checking calculation status...\n"
     ]
    },
    {
     "data": {
      "application/vnd.jupyter.widget-view+json": {
       "model_id": "fe864a04a1f046e4b99c02722e704e31",
       "version_major": 2,
       "version_minor": 0
      },
      "text/plain": [
       "Progress:   0%|          |elapsed time = 00:00s"
      ]
     },
     "metadata": {},
     "output_type": "display_data"
    },
    {
     "name": "stdout",
     "output_type": "stream",
     "text": [
      "Calculation completed.\n",
      "[5.0, 7.0]\n",
      "\n"
     ]
    }
   ],
   "source": [
    "# Identify the three segments again based on RFMScore (33% in each segment)\n",
    "segments = [0.33, 0.66]\n",
    "quantiles = rfm_agg_scores.approxQuantile(\"RFM_Score\", segments, 0)\n",
    "quantiles"
   ]
  },
  {
   "cell_type": "code",
   "execution_count": 24,
   "metadata": {},
   "outputs": [
    {
     "name": "stdout",
     "output_type": "stream",
     "text": [
      "Calculation started (calculation_id=8cc3e865-082e-9079-3351-e2e8f32acdc2) in (session=82c3e85f-07fe-ef66-49a7-42c131c664cf). Checking calculation status...\n"
     ]
    },
    {
     "data": {
      "application/vnd.jupyter.widget-view+json": {
       "model_id": "bddaa48698ef45f5ab0c6f65faca23d1",
       "version_major": 2,
       "version_minor": 0
      },
      "text/plain": [
       "Progress:   0%|          |elapsed time = 00:00s"
      ]
     },
     "metadata": {},
     "output_type": "display_data"
    },
    {
     "name": "stdout",
     "output_type": "stream",
     "text": [
      "Calculation completed.\n"
     ]
    }
   ],
   "source": [
    "# Assign loyalty level to each customer\n",
    "loyalty_level = ['Platinum', 'Gold', 'Silver']\n",
    "\n",
    "rfm_loyalty = (rfm_agg_scores\n",
    "    .withColumn(\"Loyalty\",\n",
    "                F.when((F.col(\"RFM_Score\") <= quantiles[0]), F.lit(loyalty_level[0]))\n",
    "                 .when((F.col(\"RFM_Score\") <= quantiles[1]), F.lit(loyalty_level[1]))\n",
    "                 .otherwise(F.lit(loyalty_level[2]))))"
   ]
  },
  {
   "cell_type": "code",
   "execution_count": 25,
   "metadata": {
    "scrolled": true
   },
   "outputs": [
    {
     "name": "stdout",
     "output_type": "stream",
     "text": [
      "Calculation started (calculation_id=80c3e865-0d8a-d7ab-1866-8b17839fc19c) in (session=82c3e85f-07fe-ef66-49a7-42c131c664cf). Checking calculation status...\n"
     ]
    },
    {
     "data": {
      "application/vnd.jupyter.widget-view+json": {
       "model_id": "41b76a43aad64416a83f7bb817714607",
       "version_major": 2,
       "version_minor": 0
      },
      "text/plain": [
       "Progress:   0%|          |elapsed time = 00:00s"
      ]
     },
     "metadata": {},
     "output_type": "display_data"
    },
    {
     "name": "stdout",
     "output_type": "stream",
     "text": [
      "Calculation completed.\n",
      "   user_id  Recency  Frequency  ...  RFM_Score  RFM_ScoreGroup   Loyalty\n",
      "0        5      181         17  ...          4             211  Platinum\n",
      "1       12       72         14  ...          4             112  Platinum\n",
      "2       24      170          8  ...          4             211  Platinum\n",
      "3       31      192          6  ...          5             212  Platinum\n",
      "4       34      234         16  ...          5             212  Platinum\n",
      "\n",
      "[5 rows x 10 columns]\n",
      "\n"
     ]
    }
   ],
   "source": [
    "printdf(rfm_loyalty)"
   ]
  },
  {
   "cell_type": "markdown",
   "metadata": {},
   "source": [
    "# inspect our loyalty segmentation"
   ]
  },
  {
   "cell_type": "code",
   "execution_count": 26,
   "metadata": {},
   "outputs": [
    {
     "name": "stdout",
     "output_type": "stream",
     "text": [
      "Calculation started (calculation_id=0ec3e865-1ef3-8f2c-8d0e-cf9f9296ea5f) in (session=82c3e85f-07fe-ef66-49a7-42c131c664cf). Checking calculation status...\n"
     ]
    },
    {
     "data": {
      "application/vnd.jupyter.widget-view+json": {
       "model_id": "4d731d1854ec4a83a638ea04620dc572",
       "version_major": 2,
       "version_minor": 0
      },
      "text/plain": [
       "Progress:   0%|          |elapsed time = 00:00s"
      ]
     },
     "metadata": {},
     "output_type": "display_data"
    },
    {
     "name": "stdout",
     "output_type": "stream",
     "text": [
      "Calculation completed.\n"
     ]
    }
   ],
   "source": [
    "# inspect our loyalty segmentation\n",
    "\n",
    "df_rfm_loyalty = rfm_loyalty.toPandas().sort_values([\"RFM_ScoreGroup\"])\n",
    "\n",
    "fig, ax = plt.subplots(1, 1, figsize=(6, 8))\n",
    "\n",
    "sns.countplot(x=\"Loyalty\", data=df_rfm_loyalty, color='steelblue')\n",
    "for p in ax.patches:\n",
    "    ax.annotate('{}'.format(p.get_height()), (p.get_x() + 0.3, p.get_height() + 1))\n",
    "\n",
    "fig.savefig('rfm_loyalty_countplot.png')\n",
    "s3client.upload_file('rfm_loyalty_countplot.png', 'athenapyspark-rfm-analysis-result', 'analysis-results/rfm_loyalty_countplot.png')"
   ]
  },
  {
   "cell_type": "code",
   "execution_count": 27,
   "metadata": {},
   "outputs": [
    {
     "name": "stdout",
     "output_type": "stream",
     "text": [
      "Calculation started (calculation_id=d6c3e865-246a-2702-3618-c92099f50c24) in (session=82c3e85f-07fe-ef66-49a7-42c131c664cf). Checking calculation status...\n"
     ]
    },
    {
     "data": {
      "application/vnd.jupyter.widget-view+json": {
       "model_id": "b24bcdb235494bb386c3a8081abb3612",
       "version_major": 2,
       "version_minor": 0
      },
      "text/plain": [
       "Progress:   0%|          |elapsed time = 00:00s"
      ]
     },
     "metadata": {},
     "output_type": "display_data"
    },
    {
     "name": "stdout",
     "output_type": "stream",
     "text": [
      "Calculation completed.\n",
      "0\n",
      "s3.Object(bucket_name='athenapyspark-rfm-analysis-result', key='analysis-results/evo_loyalty_rfm.csv')\n",
      "\n"
     ]
    }
   ],
   "source": [
    "with tempfile.TemporaryFile(mode='w+t') as f:\n",
    "    # write the DataFrame to the temporary file\n",
    "    df_rfm_loyalty.to_csv(f, index=False)\n",
    "    # reset the file pointer to the beginning of the file\n",
    "    f.seek(0)\n",
    "    # upload the file to S3\n",
    "    s3 = boto3.resource('s3')\n",
    "    bucket = s3.Bucket('athenapyspark-rfm-analysis-result')\n",
    "    bucket.put_object(Key='analysis-results/evo_loyalty_rfm.csv', Body=f.read().encode())"
   ]
  },
  {
   "cell_type": "code",
   "execution_count": 28,
   "metadata": {
    "scrolled": true
   },
   "outputs": [
    {
     "name": "stdout",
     "output_type": "stream",
     "text": [
      "Calculation started (calculation_id=eec3e865-29d3-3433-0752-bf4fc5b8dee0) in (session=82c3e85f-07fe-ef66-49a7-42c131c664cf). Checking calculation status...\n"
     ]
    },
    {
     "data": {
      "application/vnd.jupyter.widget-view+json": {
       "model_id": "bcbd2939efef4eac95ef3218e8c2c51e",
       "version_major": 2,
       "version_minor": 0
      },
      "text/plain": [
       "Progress:   0%|          |elapsed time = 00:00s"
      ]
     },
     "metadata": {},
     "output_type": "display_data"
    },
    {
     "name": "stdout",
     "output_type": "stream",
     "text": [
      "Calculation completed.\n"
     ]
    }
   ],
   "source": [
    "# Restricting the dataset (Monetary < 100000 & Frequency < 500) to best fit the chart\n",
    "\n",
    "df_rfm_loyalty = (rfm_loyalty\n",
    "    .filter(F.col(\"Monetary\") < 100000)\n",
    "    .filter(F.col(\"Frequency\") < 500)\n",
    "    .filter(F.col(\"Recency\") < 500)\n",
    ").toPandas()"
   ]
  },
  {
   "cell_type": "code",
   "execution_count": 29,
   "metadata": {},
   "outputs": [
    {
     "name": "stdout",
     "output_type": "stream",
     "text": [
      "Calculation started (calculation_id=d6c3e865-3b53-1b10-d8a9-c439f8a8a8ed) in (session=82c3e85f-07fe-ef66-49a7-42c131c664cf). Checking calculation status...\n"
     ]
    },
    {
     "data": {
      "application/vnd.jupyter.widget-view+json": {
       "model_id": "1dbc5e09d33e475ab528393ab1116f9d",
       "version_major": 2,
       "version_minor": 0
      },
      "text/plain": [
       "Progress:   0%|          |elapsed time = 00:00s"
      ]
     },
     "metadata": {},
     "output_type": "display_data"
    },
    {
     "name": "stdout",
     "output_type": "stream",
     "text": [
      "Calculation completed.\n"
     ]
    }
   ],
   "source": [
    "# Monetary vs Recency for each segment\n",
    "plt.close('all')\n",
    "#fig, axs = plt.subplots(3, 1, figsize=(8, 8))\n",
    "#sns.lmplot( data=df_rfm_loyalty, x=\"Recency\", y=\"Monetary\", hue='Loyalty')\n",
    "#fig.savefig('rfm_monetary_vs_recency_lmplot.png')\n",
    "#s3client.upload_file('rfm_monetary_vs_recency_lmplot.png', 'athenapyspark-rfm-analysis-result', 'analysis-results/rfm_monetary_vs_recency_lmplot.png')\n",
    "\n",
    "# create a figure with 3 subplots\n",
    "\n",
    "\n",
    "# plot lmplot on\n",
    "\n",
    "# save the figure to a file\n",
    "#fig.savefig('rfm_monetary_vs_recency_lmplot.png')\n",
    "#s3client.upload_file('rfm_monetary_vs_recency_lmplot.png', 'athenapyspark-rfm-analysis-result', 'analysis-results/rfm_monetary_vs_recency_lmplot.png')\n",
    "# Monetary vs Requency (combined)\n",
    "fig, ax = plt.subplots(1, 1, figsize=(8, 8))\n",
    "sns.scatterplot(x='Recency', y='Monetary', data=df_rfm_loyalty, hue='Loyalty', size='Monetary')\n",
    "fig.savefig('rfm_monetary_vs_recency_scatterplot.png')\n",
    "s3client.upload_file('rfm_monetary_vs_recency_scatterplot.png', 'athenapyspark-rfm-analysis-result', 'analysis-results/rfm_monetary_vs_recency_scatterplot.png')\n",
    "\n",
    "# Frequency vs Recency for each segment\n",
    "#sns.lmplot(x='Recency', y='Frequency', data=df_rfm_loyalty, col='Loyalty', hue='Loyalty', fit_reg=True)\n",
    "#fig.savefig('rfm_frequency_vs_recency_lmplot.png')\n",
    "#s3client.upload_file('rfm_frequency_vs_recency_lmplot.png', 'athenapyspark-rfm-analysis-result', 'analysis-results/rfm_frequency_vs_recency_lmplot.png')\n",
    "\n",
    "# Frequency vs Recency (combined)\n",
    "fig, ax = plt.subplots(1, 1, figsize=(8, 8))\n",
    "sns.scatterplot(x='Recency', y='Frequency', data=df_rfm_loyalty, hue='Loyalty', size='Monetary')\n",
    "fig.savefig('rfm_frequency_vs_recency_scatterplot.png')\n",
    "s3client.upload_file('rfm_frequency_vs_recency_scatterplot.png', 'athenapyspark-rfm-analysis-result', 'analysis-results/rfm_frequency_vs_recency_scatterplot.png')\n",
    "\n",
    "# Monetary vs Frequency for each segment\n",
    "#sns.lmplot(x='Monetary', y='Frequency', data=df_rfm_loyalty, col='Loyalty', hue='Loyalty', fit_reg=True)\n",
    "#fig.savefig('rfm_monetary_vs_frequency_lmplot.png')\n",
    "#s3client.upload_file('rfm_monetary_vs_frequency_lmplot.png', 'athenapyspark-rfm-analysis-result', 'analysis-results/rfm_monetary_vs_frequency_lmplot.png')\n",
    "\n",
    "# Monetary vs Frequency (combined)\n",
    "fig, ax = plt.subplots(1, 1, figsize=(8, 8))\n",
    "sns.scatterplot(x='Monetary', y='Frequency', data=df_rfm_loyalty, hue='Loyalty', size='Monetary')\n",
    "fig.savefig('rfm_monetary_vs_frequency_scatterplot.png')\n",
    "s3client.upload_file('rfm_monetary_vs_frequency_scatterplot.png', 'athenapyspark-rfm-analysis-result', 'analysis-results/rfm_monetary_vs_frequency_scatterplot.png')"
   ]
  },
  {
   "cell_type": "markdown",
   "metadata": {},
   "source": [
    "# Segmentation 2"
   ]
  },
  {
   "cell_type": "code",
   "execution_count": 30,
   "metadata": {},
   "outputs": [
    {
     "name": "stdout",
     "output_type": "stream",
     "text": [
      "Calculation started (calculation_id=78c3e865-40b8-714d-5d99-f85edea83aaf) in (session=82c3e85f-07fe-ef66-49a7-42c131c664cf). Checking calculation status...\n"
     ]
    },
    {
     "data": {
      "application/vnd.jupyter.widget-view+json": {
       "model_id": "c2948035537e4d64ab684828ab526340",
       "version_major": 2,
       "version_minor": 0
      },
      "text/plain": [
       "Progress:   0%|          |elapsed time = 00:00s"
      ]
     },
     "metadata": {},
     "output_type": "display_data"
    },
    {
     "name": "stdout",
     "output_type": "stream",
     "text": [
      "Calculation completed.\n"
     ]
    }
   ],
   "source": [
    "# Assign loyalty level to each customer\n",
    "\n",
    "# Champion: Loyal Customers, they are the champions with highest score of RFM.\n",
    "# Potential: Customers who have the most potential to become the Champions.\n",
    "#            They recently shopped and their purchases frequency is high as well. \n",
    "#            Moreover, the amount they spent is quite good.\n",
    "# Require Attention: Customers who used to shop a lot with high money. but they did not purchase recently. \n",
    "# Lost: Customers who haven't paid a visit to the store for a long time.\n",
    "\n",
    "segments = {\n",
    "    'Champion':['111'], \n",
    "    'Potential':['112','113','121','131','123','122','133','132'], \n",
    "    'Need Attention':['211','221','231','232','213','212','233','223','222'],\n",
    "    'Lost':['312','321','331','311','333','332','323','322','313']\n",
    "}\n",
    "\n",
    "rfm_segment = (rfm_agg_scores\n",
    "    .withColumn(\"Segment\",\n",
    "                F.when((F.col(\"RFM_ScoreGroup\").isin(segments['Champion'])), F.lit('Champion'))\n",
    "                 .when((F.col(\"RFM_ScoreGroup\").isin(segments['Potential'])), F.lit('Potential'))\n",
    "                 .when((F.col(\"RFM_ScoreGroup\").isin(segments['Need Attention'])), F.lit('Need Attention'))\n",
    "                 .otherwise(F.lit('Lost'))))"
   ]
  },
  {
   "cell_type": "code",
   "execution_count": 31,
   "metadata": {},
   "outputs": [
    {
     "name": "stdout",
     "output_type": "stream",
     "text": [
      "Calculation started (calculation_id=cac3e865-460a-dd9e-50a7-d6f729f8feb1) in (session=82c3e85f-07fe-ef66-49a7-42c131c664cf). Checking calculation status...\n"
     ]
    },
    {
     "data": {
      "application/vnd.jupyter.widget-view+json": {
       "model_id": "b1fa1e819fd34b698a9b5d06e3c94e51",
       "version_major": 2,
       "version_minor": 0
      },
      "text/plain": [
       "Progress:   0%|          |elapsed time = 00:00s"
      ]
     },
     "metadata": {},
     "output_type": "display_data"
    },
    {
     "name": "stdout",
     "output_type": "stream",
     "text": [
      "Calculation completed.\n",
      "   user_id  Recency  Frequency  ...  RFM_Score  RFM_ScoreGroup         Segment\n",
      "0        5      181         17  ...          4             211  Need Attention\n",
      "1       12       72         14  ...          4             112       Potential\n",
      "2       24      170          8  ...          4             211  Need Attention\n",
      "3       31      192          6  ...          5             212  Need Attention\n",
      "4       34      234         16  ...          5             212  Need Attention\n",
      "\n",
      "[5 rows x 10 columns]\n",
      "\n"
     ]
    }
   ],
   "source": [
    "# printdf(rfm_loyalty.filter(F.col(\"CustomerID\").isin([12346,12747,12748,12749,12820])))\n",
    "# printdf(rfm_loyalty.filter(F.col(\"RFM_ScoreGroup\") == \"111\"), 10)\n",
    "printdf(rfm_segment)"
   ]
  },
  {
   "cell_type": "code",
   "execution_count": 32,
   "metadata": {},
   "outputs": [
    {
     "name": "stdout",
     "output_type": "stream",
     "text": [
      "Calculation started (calculation_id=b6c3e865-5789-9f35-7ddf-265698a0aeb8) in (session=82c3e85f-07fe-ef66-49a7-42c131c664cf). Checking calculation status...\n"
     ]
    },
    {
     "data": {
      "application/vnd.jupyter.widget-view+json": {
       "model_id": "ba8839268206451997e5aaab00bf7fde",
       "version_major": 2,
       "version_minor": 0
      },
      "text/plain": [
       "Progress:   0%|          |elapsed time = 00:00s"
      ]
     },
     "metadata": {},
     "output_type": "display_data"
    },
    {
     "name": "stdout",
     "output_type": "stream",
     "text": [
      "Calculation completed.\n"
     ]
    }
   ],
   "source": [
    "df_rfm_segment = rfm_segment.toPandas().sort_values([\"RFM_ScoreGroup\"])\n",
    "\n",
    "fig, ax = plt.subplots(1, 1, figsize=(6, 8))\n",
    "\n",
    "# sns.histplot(df_rfm_loyalty[\"Loyalty\"], color='steelblue', shrink=.8)\n",
    "sns.countplot(x=\"Segment\", data=df_rfm_segment, color='steelblue')\n",
    "for p in ax.patches:\n",
    "    ax.annotate('{}'.format(p.get_height()), (p.get_x() + 0.3, p.get_height() + 1))\n",
    "fig.savefig('rfm_segment_countplot.png')\n",
    "import boto3\n",
    "s3client=boto3.client('s3')\n",
    "s3client.upload_file('rfm_segment_countplot.png', 'athenapyspark-rfm-analysis-result', 'analysis-results/rfm_segment_countplot.png')"
   ]
  },
  {
   "cell_type": "code",
   "execution_count": 33,
   "metadata": {},
   "outputs": [
    {
     "name": "stdout",
     "output_type": "stream",
     "text": [
      "Calculation started (calculation_id=84c3e865-5d05-864e-3062-c91f61b96242) in (session=82c3e85f-07fe-ef66-49a7-42c131c664cf). Checking calculation status...\n"
     ]
    },
    {
     "data": {
      "application/vnd.jupyter.widget-view+json": {
       "model_id": "b68a438d0ff547ada9ac899151fc28b0",
       "version_major": 2,
       "version_minor": 0
      },
      "text/plain": [
       "Progress:   0%|          |elapsed time = 00:00s"
      ]
     },
     "metadata": {},
     "output_type": "display_data"
    },
    {
     "name": "stdout",
     "output_type": "stream",
     "text": [
      "Calculation completed.\n",
      "0\n",
      "s3.Object(bucket_name='athenapyspark-rfm-analysis-result', key='analysis-results/evo_rfm_segment.csv')\n",
      "\n"
     ]
    }
   ],
   "source": [
    "with tempfile.TemporaryFile(mode='w+t') as f:\n",
    "    df_rfm_segment.to_csv(f, index=False)\n",
    "# reset the file pointer to the beginning of the file\n",
    "    f.seek(0)\n",
    "# upload the file to S3\n",
    "    bucket.put_object(Key='analysis-results/evo_rfm_segment.csv', Body=f.read().encode())"
   ]
  },
  {
   "cell_type": "markdown",
   "metadata": {},
   "source": [
    "# Visualize"
   ]
  },
  {
   "cell_type": "code",
   "execution_count": 34,
   "metadata": {},
   "outputs": [
    {
     "name": "stdout",
     "output_type": "stream",
     "text": [
      "Calculation started (calculation_id=36c3e865-6267-d53d-f989-c8609d2aa238) in (session=82c3e85f-07fe-ef66-49a7-42c131c664cf). Checking calculation status...\n"
     ]
    },
    {
     "data": {
      "application/vnd.jupyter.widget-view+json": {
       "model_id": "a4943cc1e7a74b09a7f98d2bfdc463eb",
       "version_major": 2,
       "version_minor": 0
      },
      "text/plain": [
       "Progress:   0%|          |elapsed time = 00:00s"
      ]
     },
     "metadata": {},
     "output_type": "display_data"
    },
    {
     "name": "stdout",
     "output_type": "stream",
     "text": [
      "Calculation completed.\n"
     ]
    }
   ],
   "source": [
    "# Restricting the dataset (Monetary < 100000 & Frequency < 500) to optimize the chart\n",
    "\n",
    "df_rfm_segment = (rfm_segment\n",
    "    .filter(F.col(\"Monetary\") < 100000)\n",
    "    .filter(F.col(\"Frequency\") < 500)\n",
    "    .filter(F.col(\"Recency\") < 500)\n",
    ").toPandas()"
   ]
  },
  {
   "cell_type": "code",
   "execution_count": 35,
   "metadata": {},
   "outputs": [
    {
     "name": "stdout",
     "output_type": "stream",
     "text": [
      "Calculation started (calculation_id=90c3e865-7830-4832-4070-6e670258ea87) in (session=82c3e85f-07fe-ef66-49a7-42c131c664cf). Checking calculation status...\n"
     ]
    },
    {
     "data": {
      "application/vnd.jupyter.widget-view+json": {
       "model_id": "88c8b37782ba4dac8d2997d554165fc8",
       "version_major": 2,
       "version_minor": 0
      },
      "text/plain": [
       "Progress:   0%|          |elapsed time = 00:00s"
      ]
     },
     "metadata": {},
     "output_type": "display_data"
    },
    {
     "name": "stdout",
     "output_type": "stream",
     "text": [
      "Calculation completed.\n"
     ]
    }
   ],
   "source": [
    "# Monetary vs Frequency for each segment\n",
    "#sns.lmplot(x='Monetary', y='Frequency', data=df_rfm_segment, col='Segment', hue='Segment', fit_reg=True)\n",
    "\n",
    "# Monetary vs Frequency (combined)\n",
    "fig, ax = plt.subplots(1, 1, figsize=(8, 8))\n",
    "sns.scatterplot(x='Monetary', y='Frequency', data=df_rfm_segment, hue='Segment', size='Monetary')\n",
    "fig.savefig('rfm_visualize_monetary_vs_frequency_scatterplot.png')\n",
    "s3client.upload_file('rfm_visualize_monetary_vs_frequency_scatterplot.png', 'athenapyspark-rfm-analysis-result', 'analysis-results/rfm_visualize_monetary_vs_frequency_scatterplot.png')"
   ]
  },
  {
   "cell_type": "code",
   "execution_count": 36,
   "metadata": {
    "scrolled": true
   },
   "outputs": [
    {
     "name": "stdout",
     "output_type": "stream",
     "text": [
      "Calculation started (calculation_id=54c3e865-7d9b-8411-e5b0-1b09f2dd43ed) in (session=82c3e85f-07fe-ef66-49a7-42c131c664cf). Checking calculation status...\n"
     ]
    },
    {
     "data": {
      "application/vnd.jupyter.widget-view+json": {
       "model_id": "8cead529d2ac4f10be513c178009078e",
       "version_major": 2,
       "version_minor": 0
      },
      "text/plain": [
       "Progress:   0%|          |elapsed time = 00:00s"
      ]
     },
     "metadata": {},
     "output_type": "display_data"
    },
    {
     "name": "stdout",
     "output_type": "stream",
     "text": [
      "Calculation completed.\n"
     ]
    }
   ],
   "source": [
    "import matplotlib\n",
    "matplotlib.rcParams['figure.max_open_warning'] = 50 # set the maximum number of allowed open figures to 50"
   ]
  },
  {
   "cell_type": "code",
   "execution_count": 37,
   "metadata": {},
   "outputs": [
    {
     "name": "stdout",
     "output_type": "stream",
     "text": [
      "Calculation started (calculation_id=38c3e865-7ec9-fb92-7597-af3a8b2869d1) in (session=82c3e85f-07fe-ef66-49a7-42c131c664cf). Checking calculation status...\n"
     ]
    },
    {
     "data": {
      "application/vnd.jupyter.widget-view+json": {
       "model_id": "002a49ab2b514be4b801b3b9d8c11173",
       "version_major": 2,
       "version_minor": 0
      },
      "text/plain": [
       "Progress:   0%|          |elapsed time = 00:00s"
      ]
     },
     "metadata": {},
     "output_type": "display_data"
    },
    {
     "name": "stdout",
     "output_type": "stream",
     "text": [
      "Calculation completed.\n"
     ]
    }
   ],
   "source": [
    "# Monetary vs Recency for each segment\n",
    "#sns.lmplot(x='Recency', y='Monetary', data=df_rfm_segment, col='Segment', hue='Segment', fit_reg=True)\n",
    "\n",
    "# Monetary vs Recency (combined)\n",
    "fig, ax = plt.subplots(1, 1, figsize=(8, 8))\n",
    "sns.scatterplot(x='Recency', y='Monetary', data=df_rfm_segment, hue='Segment', size='Monetary')\n",
    "fig.savefig('rfm_visualize_monetary_vs_recency_scatterplot.png')\n",
    "s3client.upload_file('rfm_visualize_monetary_vs_recency_scatterplot.png', 'athenapyspark-rfm-analysis-result', 'analysis-results/rfm_visualize_monetary_vs_recency_scatterplot.png')"
   ]
  },
  {
   "cell_type": "code",
   "execution_count": 38,
   "metadata": {},
   "outputs": [
    {
     "name": "stdout",
     "output_type": "stream",
     "text": [
      "Calculation started (calculation_id=acc3e865-840e-894d-e23c-6d705b7008a3) in (session=82c3e85f-07fe-ef66-49a7-42c131c664cf). Checking calculation status...\n"
     ]
    },
    {
     "data": {
      "application/vnd.jupyter.widget-view+json": {
       "model_id": "1414686be68b4e2c9641ca408df28610",
       "version_major": 2,
       "version_minor": 0
      },
      "text/plain": [
       "Progress:   0%|          |elapsed time = 00:00s"
      ]
     },
     "metadata": {},
     "output_type": "display_data"
    },
    {
     "name": "stdout",
     "output_type": "stream",
     "text": [
      "Calculation completed.\n"
     ]
    }
   ],
   "source": [
    "# Frequency vs Recency for each segment\n",
    "#sns.lmplot(x='Recency', y='Frequency', data=df_rfm_segment, col='Segment', hue='Segment', fit_reg=True)\n",
    "\n",
    "# Frequency vs Recency (combined)\n",
    "fig, ax = plt.subplots(1, 1, figsize=(8, 8))\n",
    "sns.scatterplot(x='Recency', y='Frequency', data=df_rfm_segment, hue='Segment', size='Monetary')\n",
    "fig.savefig('rfm_visualize_frequency_vs_recency_scatterplot.png')\n",
    "s3client.upload_file('rfm_visualize_frequency_vs_recency_scatterplot.png', 'athenapyspark-rfm-analysis-result', 'analysis-results/rfm_visualize_frequency_vs_recency_scatterplot.png')"
   ]
  },
  {
   "cell_type": "code",
   "execution_count": 1,
   "metadata": {},
   "outputs": [],
   "source": [
    "# fig = plt.figure(figsize=(10,10))\n",
    "# ax = fig.add_subplot(projection='3d')\n",
    "\n",
    "# colors = {'Champion':'green', 'Potential':'blue', 'Need Attention':'orange', 'Lost':'red'}\n",
    "\n",
    "# ax.scatter(xs=df_rfm_segment.Frequency, \n",
    "#            ys=df_rfm_segment.Recency, \n",
    "#            zs=df_rfm_segment.Monetary, \n",
    "#            c=[colors[x] for x in df_rfm_segment.Segment])"
   ]
  }
 ],
 "metadata": {
  "kernelspec": {
   "display_name": "Athena PySpark",
   "language": "python",
   "name": "kepler_python_kernel"
  },
  "language_info": {
   "codemirror_mode": {
    "name": "python",
    "version": 3
   },
   "file_extension": ".py",
   "mimetype": "text/x-python",
   "name": "Python_Session",
   "pygments_lexer": "python3"
  }
 },
 "nbformat": 4,
 "nbformat_minor": 1
}
